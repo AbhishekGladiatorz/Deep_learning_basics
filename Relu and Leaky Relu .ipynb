{
 "cells": [
  {
   "cell_type": "markdown",
   "metadata": {},
   "source": [
    "## Python | Tensorflow nn.relu() and nn.leaky_relu()\n",
    "Tensorflow is an open-source machine learning library developed by Google. One of its applications is to developed deep neural networks. The module tensorflow.nn provides support for many basic neural network operations.\n",
    "\n",
    "An activation function is a function which is applied to the output of a neural network layer, which is then passed as the input to the next layer. Activation functions are an essential part of neural networks as they provide non-linearity, without which the neural network reduces to a mere logistic regression model. The most widely used activation function is the Rectified Linear Unit (ReLU). ReLU is defined as f(x) = max(0, x). ReLU has become a popular choice in recent times due to the following reasons:\n",
    "\n",
    "Computationally faster: The ReLU is a highly simplified function which is easily computed.\n",
    "Fewer vanishing gradients: In machine learning, the update to a parameter is proportional to the partial derivative of the error function with respect to that parameters. If the gradient becomes extremely small, the updates will not be effective and the network might stop training at all. The ReLU does not saturate in the positive direction, whereas other activation functions like sigmoid and hyperbolic tangent saturate in both directions. Therefore, it has fewer vanishing gradients resulting in better training.\n",
    "The function nn.relu() provides support for the ReLU in Tensorflow."
   ]
  },
  {
   "cell_type": "markdown",
   "metadata": {},
   "source": [
    "Syntax: tf.nn.relu(features, name=None)\n",
    "\n",
    "Parameters:\n",
    "features: A tensor of any of the following types: float32, float64, int32, uint8, int16, int8, int64, bfloat16, uint16, half, uint32, uint64.\n",
    "name (optional): The name for the operation.\n",
    "\n",
    "Return type: A tensor with the same type as that of features."
   ]
  },
  {
   "cell_type": "code",
   "execution_count": 2,
   "metadata": {},
   "outputs": [
    {
     "name": "stdout",
     "output_type": "stream",
     "text": [
      "Input type: Tensor(\"Const:0\", shape=(6,), dtype=float32)\n",
      "Input: [ 1.  -0.5  3.4 -2.1  0.  -6.5]\n",
      "Return type: Tensor(\"ReLU:0\", shape=(6,), dtype=float32)\n",
      "Output: [1.  0.  3.4 0.  0.  0. ]\n"
     ]
    }
   ],
   "source": [
    "# Importing the Tensorflow library \n",
    "import tensorflow as tf \n",
    "  \n",
    "# A constant vector of size 6 \n",
    "a = tf.constant([1.0, -0.5, 3.4, -2.1, 0.0, -6.5], dtype = tf.float32) \n",
    "  \n",
    "# Applying the ReLu function and \n",
    "# storing the result in 'b' \n",
    "b = tf.nn.relu(a, name ='ReLU') \n",
    "  \n",
    "# Initiating a Tensorflow session \n",
    "with tf.Session() as sess: \n",
    "    print('Input type:', a) \n",
    "    print('Input:', sess.run(a)) \n",
    "    print('Return type:', b) \n",
    "    print('Output:', sess.run(b)) "
   ]
  },
  {
   "cell_type": "code",
   "execution_count": null,
   "metadata": {},
   "outputs": [],
   "source": []
  },
  {
   "cell_type": "markdown",
   "metadata": {},
   "source": [
    "## Leaky ReLU:\n",
    "The ReLU function suffers from what is called the “dying ReLU” problem. Since the slope of the ReLU function on the negative side is zero, a neuron stuck on that side is unlikely to recover from it. This causes the neuron to output zero for every input, thus rendering it useless. A solution to this problem is to use Leaky ReLU which has a small slope on the negative side.\n",
    "\n",
    "The function nn.leaky_relu() provides support for the ReLU in Tensorflow."
   ]
  },
  {
   "cell_type": "markdown",
   "metadata": {},
   "source": [
    "Syntax: tf.nn.leaky_relu(features, alpha, name=None)\n",
    "\n",
    "Parameters:\n",
    "features: A tensor of any of the following types: float32, float64, int32, uint8, int16, int8, int64, bfloat16, uint16, half, uint32, uint64.\n",
    "alpha: The slope of the function for x < 0. Default value is 0.2.\n",
    "name (optional): The name for the operation.\n",
    "\n",
    "Return type: A tensor with the same type as that of features.\n",
    "\n",
    "filter_none"
   ]
  },
  {
   "cell_type": "code",
   "execution_count": 3,
   "metadata": {},
   "outputs": [
    {
     "name": "stdout",
     "output_type": "stream",
     "text": [
      "Input type: Tensor(\"Const_1:0\", shape=(6,), dtype=float32)\n",
      "Input: [ 1.  -0.5  3.4 -2.1  0.  -6.5]\n",
      "Return type: Tensor(\"Leaky_ReLU/Maximum:0\", shape=(6,), dtype=float32)\n",
      "Output: [ 1.    -0.005  3.4   -0.021  0.    -0.065]\n"
     ]
    }
   ],
   "source": [
    "# Importing the Tensorflow library \n",
    "import tensorflow as tf  \n",
    "  \n",
    "# A constant vector of size 6 \n",
    "a = tf.constant([1.0, -0.5, 3.4, -2.1, 0.0, -6.5], dtype=tf.float32) \n",
    "  \n",
    "# Applying the Leaky ReLu function with \n",
    "# slope 0.01 and storing the result in 'b' \n",
    "b = tf.nn.leaky_relu(a, alpha=0.01, name='Leaky_ReLU') \n",
    "  \n",
    "# Initiating a Tensorflow session \n",
    "with tf.Session() as sess:  \n",
    "    print('Input type:', a) \n",
    "    print('Input:', sess.run(a)) \n",
    "    print('Return type:', b) \n",
    "    print('Output:', sess.run(b)) "
   ]
  },
  {
   "cell_type": "markdown",
   "metadata": {},
   "source": [
    "courtesy -> GeeksForGeeks\n"
   ]
  },
  {
   "cell_type": "code",
   "execution_count": null,
   "metadata": {},
   "outputs": [],
   "source": []
  }
 ],
 "metadata": {
  "kernelspec": {
   "display_name": "Python 3",
   "language": "python",
   "name": "python3"
  },
  "language_info": {
   "codemirror_mode": {
    "name": "ipython",
    "version": 3
   },
   "file_extension": ".py",
   "mimetype": "text/x-python",
   "name": "python",
   "nbconvert_exporter": "python",
   "pygments_lexer": "ipython3",
   "version": "3.6.4"
  }
 },
 "nbformat": 4,
 "nbformat_minor": 2
}
